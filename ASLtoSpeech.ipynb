{
 "cells": [
  {
   "cell_type": "code",
   "execution_count": 1,
   "id": "42b89b96",
   "metadata": {},
   "outputs": [],
   "source": [
    "import os\n",
    "import cv2\n",
    "import time\n",
    "import uuid"
   ]
  },
  {
   "cell_type": "code",
   "execution_count": 2,
   "id": "e50d36d6",
   "metadata": {},
   "outputs": [],
   "source": [
    "IMAGES_PATH = 'Tensorflow/workspace/images/collectedimages'"
   ]
  },
  {
   "cell_type": "code",
   "execution_count": 3,
   "id": "baf60b47",
   "metadata": {},
   "outputs": [],
   "source": [
    "labels = ['afternoon', 'allergic', 'angry', 'asl', 'blood', 'call', 'can', 'deaf', 'doctor', 'down', 'Hi', 'Our', 'Speech', 'A', 'S','L', 'project', 'enjoy']\n",
    "# hi this is our ASL to Speech project. Enjoy\n",
    "# Hi, our, Speech, A, S, L, Project, Enjoy\n",
    "num_imgs = 15"
   ]
  },
  {
   "cell_type": "code",
   "execution_count": 4,
   "id": "16f52049",
   "metadata": {},
   "outputs": [
    {
     "name": "stderr",
     "output_type": "stream",
     "text": [
      "A subdirectory or file Tensorflow\\workspace\\images\\collectedimages\\Speech already exists.\n"
     ]
    },
    {
     "name": "stdout",
     "output_type": "stream",
     "text": [
      "Collecting images for Speech\n",
      "Image take\n",
      "Image take\n",
      "Image take\n",
      "Image take\n",
      "Image take\n",
      "Image take\n",
      "Image take\n",
      "Image take\n",
      "Image take\n",
      "Image take\n",
      "Image take\n",
      "Image take\n",
      "Image take\n",
      "Image take\n",
      "Image take\n",
      "Collecting images for A\n",
      "Image take\n",
      "Image take\n",
      "Image take\n",
      "Image take\n",
      "Image take\n",
      "Image take\n",
      "Image take\n",
      "Image take\n",
      "Image take\n",
      "Image take\n",
      "Image take\n",
      "Image take\n",
      "Image take\n",
      "Image take\n",
      "Image take\n",
      "Collecting images for S\n",
      "Image take\n",
      "Image take\n",
      "Image take\n",
      "Image take\n",
      "Image take\n",
      "Image take\n",
      "Image take\n",
      "Image take\n",
      "Image take\n",
      "Image take\n",
      "Image take\n",
      "Image take\n",
      "Image take\n",
      "Image take\n",
      "Image take\n",
      "Collecting images for L\n",
      "Image take\n",
      "Image take\n",
      "Image take\n",
      "Image take\n",
      "Image take\n",
      "Image take\n",
      "Image take\n",
      "Image take\n",
      "Image take\n",
      "Image take\n",
      "Image take\n",
      "Image take\n",
      "Image take\n",
      "Image take\n",
      "Image take\n",
      "Collecting images for project\n",
      "Image take\n",
      "Image take\n",
      "Image take\n",
      "Image take\n",
      "Image take\n",
      "Image take\n",
      "Image take\n",
      "Image take\n",
      "Image take\n",
      "Image take\n",
      "Image take\n",
      "Image take\n",
      "Image take\n",
      "Image take\n",
      "Image take\n",
      "Collecting images for enjoy\n",
      "Image take\n",
      "Image take\n",
      "Image take\n",
      "Image take\n",
      "Image take\n",
      "Image take\n",
      "Image take\n",
      "Image take\n",
      "Image take\n",
      "Image take\n",
      "Image take\n",
      "Image take\n",
      "Image take\n",
      "Image take\n",
      "Image take\n"
     ]
    }
   ],
   "source": [
    "for label in labels[-6:]:\n",
    "    !mkdir {'Tensorflow\\workspace\\images\\collectedimages\\\\' + label}\n",
    "    cap = cv2.VideoCapture(0)\n",
    "    print(\"Collecting images for {}\".format(label))\n",
    "    time.sleep(5)\n",
    "    for imgnum in range(num_imgs):\n",
    "        j = input(\"Image take\")\n",
    "        ret, frame = cap.read()\n",
    "        imgname = os.path.join(IMAGES_PATH, label, label+\".\"+\"{}.jpg\".format(str(uuid.uuid1())))\n",
    "        cv2.imwrite(imgname, frame)\n",
    "        cv2.imshow('frame', frame)\n",
    "        time.sleep(2)\n",
    "        if cv2.waitKey(1) & 0xFF == ord('q'):\n",
    "            break\n",
    "    cap.release"
   ]
  },
  {
   "cell_type": "code",
   "execution_count": null,
   "id": "c6833c40",
   "metadata": {},
   "outputs": [],
   "source": []
  }
 ],
 "metadata": {
  "kernelspec": {
   "display_name": "Python 3",
   "language": "python",
   "name": "python3"
  },
  "language_info": {
   "codemirror_mode": {
    "name": "ipython",
    "version": 3
   },
   "file_extension": ".py",
   "mimetype": "text/x-python",
   "name": "python",
   "nbconvert_exporter": "python",
   "pygments_lexer": "ipython3",
   "version": "3.8.8"
  }
 },
 "nbformat": 4,
 "nbformat_minor": 5
}
