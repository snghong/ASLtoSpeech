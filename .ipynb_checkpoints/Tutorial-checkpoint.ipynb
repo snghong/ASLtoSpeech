{
 "cells": [
  {
   "cell_type": "markdown",
   "metadata": {},
   "source": [
    "Resources Used\n",
    "- wget.download('https://tensorflow-object-detection-api-tutorial.readthedocs.io/en/latest/_downloads/da4babe668a8afb093cc7776d7e630f3/generate_tfrecord.py')\n",
    "- Setup https://tensorflow-object-detection-api-tutorial.readthedocs.io/en/latest/install.html"
   ]
  },
  {
   "cell_type": "markdown",
   "metadata": {},
   "source": [
    "# 0. Setup Paths"
   ]
  },
  {
   "cell_type": "code",
   "execution_count": 1,
   "metadata": {},
   "outputs": [
    {
     "name": "stdout",
     "output_type": "stream",
     "text": [
      "Requirement already satisfied: tensorflow in c:\\users\\sngho\\anaconda\\lib\\site-packages (2.7.0)\n",
      "Requirement already satisfied: tensorboard~=2.6 in c:\\users\\sngho\\anaconda\\lib\\site-packages (from tensorflow) (2.7.0)\n",
      "Requirement already satisfied: absl-py>=0.4.0 in c:\\users\\sngho\\anaconda\\lib\\site-packages (from tensorflow) (0.15.0)\n",
      "Requirement already satisfied: libclang>=9.0.1 in c:\\users\\sngho\\anaconda\\lib\\site-packages (from tensorflow) (12.0.0)\n",
      "Requirement already satisfied: wrapt>=1.11.0 in c:\\users\\sngho\\anaconda\\lib\\site-packages (from tensorflow) (1.12.1)\n",
      "Requirement already satisfied: gast<0.5.0,>=0.2.1 in c:\\users\\sngho\\anaconda\\lib\\site-packages (from tensorflow) (0.4.0)\n",
      "Requirement already satisfied: typing-extensions>=3.6.6 in c:\\users\\sngho\\anaconda\\lib\\site-packages (from tensorflow) (3.7.4.3)\n",
      "Requirement already satisfied: keras<2.8,>=2.7.0rc0 in c:\\users\\sngho\\anaconda\\lib\\site-packages (from tensorflow) (2.7.0)\n",
      "Requirement already satisfied: six>=1.12.0 in c:\\users\\sngho\\anaconda\\lib\\site-packages (from tensorflow) (1.15.0)\n",
      "Requirement already satisfied: termcolor>=1.1.0 in c:\\users\\sngho\\anaconda\\lib\\site-packages (from tensorflow) (1.1.0)\n",
      "Requirement already satisfied: numpy>=1.14.5 in c:\\users\\sngho\\anaconda\\lib\\site-packages (from tensorflow) (1.20.1)\n",
      "Requirement already satisfied: wheel<1.0,>=0.32.0 in c:\\users\\sngho\\anaconda\\lib\\site-packages (from tensorflow) (0.36.2)\n",
      "Requirement already satisfied: grpcio<2.0,>=1.24.3 in c:\\users\\sngho\\anaconda\\lib\\site-packages (from tensorflow) (1.41.1)\n",
      "Requirement already satisfied: h5py>=2.9.0 in c:\\users\\sngho\\anaconda\\lib\\site-packages (from tensorflow) (2.10.0)\n",
      "Requirement already satisfied: astunparse>=1.6.0 in c:\\users\\sngho\\anaconda\\lib\\site-packages (from tensorflow) (1.6.3)\n",
      "Requirement already satisfied: tensorflow-estimator<2.8,~=2.7.0rc0 in c:\\users\\sngho\\anaconda\\lib\\site-packages (from tensorflow) (2.7.0)\n",
      "Requirement already satisfied: tensorflow-io-gcs-filesystem>=0.21.0 in c:\\users\\sngho\\anaconda\\lib\\site-packages (from tensorflow) (0.21.0)\n",
      "Requirement already satisfied: flatbuffers<3.0,>=1.12 in c:\\users\\sngho\\anaconda\\lib\\site-packages (from tensorflow) (2.0)\n",
      "Requirement already satisfied: keras-preprocessing>=1.1.1 in c:\\users\\sngho\\anaconda\\lib\\site-packages (from tensorflow) (1.1.2)\n",
      "Requirement already satisfied: protobuf>=3.9.2 in c:\\users\\sngho\\anaconda\\lib\\site-packages (from tensorflow) (3.19.1)\n",
      "Requirement already satisfied: google-pasta>=0.1.1 in c:\\users\\sngho\\anaconda\\lib\\site-packages (from tensorflow) (0.2.0)\n",
      "Requirement already satisfied: opt-einsum>=2.3.2 in c:\\users\\sngho\\anaconda\\lib\\site-packages (from tensorflow) (3.3.0)\n",
      "Requirement already satisfied: google-auth<3,>=1.6.3 in c:\\users\\sngho\\anaconda\\lib\\site-packages (from tensorboard~=2.6->tensorflow) (2.3.3)\n",
      "Requirement already satisfied: tensorboard-plugin-wit>=1.6.0 in c:\\users\\sngho\\anaconda\\lib\\site-packages (from tensorboard~=2.6->tensorflow) (1.8.0)\n",
      "Requirement already satisfied: google-auth-oauthlib<0.5,>=0.4.1 in c:\\users\\sngho\\anaconda\\lib\\site-packages (from tensorboard~=2.6->tensorflow) (0.4.6)\n",
      "Requirement already satisfied: requests<3,>=2.21.0 in c:\\users\\sngho\\anaconda\\lib\\site-packages (from tensorboard~=2.6->tensorflow) (2.25.1)\n",
      "Requirement already satisfied: setuptools>=41.0.0 in c:\\users\\sngho\\anaconda\\lib\\site-packages (from tensorboard~=2.6->tensorflow) (52.0.0.post20210125)\n",
      "Requirement already satisfied: werkzeug>=0.11.15 in c:\\users\\sngho\\anaconda\\lib\\site-packages (from tensorboard~=2.6->tensorflow) (1.0.1)\n",
      "Requirement already satisfied: markdown>=2.6.8 in c:\\users\\sngho\\anaconda\\lib\\site-packages (from tensorboard~=2.6->tensorflow) (3.3.4)\n",
      "Requirement already satisfied: tensorboard-data-server<0.7.0,>=0.6.0 in c:\\users\\sngho\\anaconda\\lib\\site-packages (from tensorboard~=2.6->tensorflow) (0.6.1)\n",
      "Requirement already satisfied: rsa<5,>=3.1.4 in c:\\users\\sngho\\anaconda\\lib\\site-packages (from google-auth<3,>=1.6.3->tensorboard~=2.6->tensorflow) (4.7.2)\n",
      "Requirement already satisfied: pyasn1-modules>=0.2.1 in c:\\users\\sngho\\anaconda\\lib\\site-packages (from google-auth<3,>=1.6.3->tensorboard~=2.6->tensorflow) (0.2.8)\n",
      "Requirement already satisfied: cachetools<5.0,>=2.0.0 in c:\\users\\sngho\\anaconda\\lib\\site-packages (from google-auth<3,>=1.6.3->tensorboard~=2.6->tensorflow) (4.2.4)\n",
      "Requirement already satisfied: requests-oauthlib>=0.7.0 in c:\\users\\sngho\\anaconda\\lib\\site-packages (from google-auth-oauthlib<0.5,>=0.4.1->tensorboard~=2.6->tensorflow) (1.3.0)\n",
      "Requirement already satisfied: pyasn1<0.5.0,>=0.4.6 in c:\\users\\sngho\\anaconda\\lib\\site-packages (from pyasn1-modules>=0.2.1->google-auth<3,>=1.6.3->tensorboard~=2.6->tensorflow) (0.4.8)\n",
      "Requirement already satisfied: chardet<5,>=3.0.2 in c:\\users\\sngho\\anaconda\\lib\\site-packages (from requests<3,>=2.21.0->tensorboard~=2.6->tensorflow) (4.0.0)\n",
      "Requirement already satisfied: urllib3<1.27,>=1.21.1 in c:\\users\\sngho\\anaconda\\lib\\site-packages (from requests<3,>=2.21.0->tensorboard~=2.6->tensorflow) (1.26.4)\n",
      "Note: you may need to restart the kernel to use updated packages.Requirement already satisfied: certifi>=2017.4.17 in c:\\users\\sngho\\anaconda\\lib\\site-packages (from requests<3,>=2.21.0->tensorboard~=2.6->tensorflow) (2020.12.5)\n",
      "Requirement already satisfied: idna<3,>=2.5 in c:\\users\\sngho\\anaconda\\lib\\site-packages (from requests<3,>=2.21.0->tensorboard~=2.6->tensorflow) (2.10)\n",
      "Requirement already satisfied: oauthlib>=3.0.0 in c:\\users\\sngho\\anaconda\\lib\\site-packages (from requests-oauthlib>=0.7.0->google-auth-oauthlib<0.5,>=0.4.1->tensorboard~=2.6->tensorflow) (3.1.1)\n",
      "\n"
     ]
    }
   ],
   "source": [
    "pip install tensorflow\n"
   ]
  },
  {
   "cell_type": "code",
   "execution_count": 2,
   "metadata": {},
   "outputs": [
    {
     "name": "stdout",
     "output_type": "stream",
     "text": [
      "Collecting tensorflow-object-detection-api\n",
      "  Downloading tensorflow_object_detection_api-0.1.1.tar.gz (577 kB)\n",
      "Requirement already satisfied: Pillow>=1.0 in c:\\users\\sngho\\anaconda\\lib\\site-packages (from tensorflow-object-detection-api) (8.2.0)\n",
      "Requirement already satisfied: Matplotlib>=2.1 in c:\\users\\sngho\\anaconda\\lib\\site-packages (from tensorflow-object-detection-api) (3.3.4)\n",
      "Requirement already satisfied: Cython>=0.28.1 in c:\\users\\sngho\\anaconda\\lib\\site-packages (from tensorflow-object-detection-api) (0.29.23)\n",
      "Requirement already satisfied: Protobuf in c:\\users\\sngho\\anaconda\\lib\\site-packages (from tensorflow-object-detection-api) (3.19.1)\n",
      "Requirement already satisfied: lxml in c:\\users\\sngho\\anaconda\\lib\\site-packages (from tensorflow-object-detection-api) (4.6.3)\n",
      "Requirement already satisfied: jupyter in c:\\users\\sngho\\anaconda\\lib\\site-packages (from tensorflow-object-detection-api) (1.0.0)\n",
      "Requirement already satisfied: tensorflow in c:\\users\\sngho\\anaconda\\lib\\site-packages (from tensorflow-object-detection-api) (2.7.0)\n",
      "Requirement already satisfied: contextlib2 in c:\\users\\sngho\\anaconda\\lib\\site-packages (from tensorflow-object-detection-api) (0.6.0.post1)\n",
      "Requirement already satisfied: wheel in c:\\users\\sngho\\anaconda\\lib\\site-packages (from tensorflow-object-detection-api) (0.36.2)\n",
      "Collecting twine\n",
      "  Downloading twine-3.5.0-py3-none-any.whl (35 kB)\n",
      "Requirement already satisfied: ipykernel in c:\\users\\sngho\\anaconda\\lib\\site-packages (from jupyter->tensorflow-object-detection-api) (5.3.4)\n",
      "Requirement already satisfied: notebook in c:\\users\\sngho\\anaconda\\lib\\site-packages (from jupyter->tensorflow-object-detection-api) (6.3.0)\n",
      "Requirement already satisfied: jupyter-console in c:\\users\\sngho\\anaconda\\lib\\site-packages (from jupyter->tensorflow-object-detection-api) (6.4.0)\n",
      "Requirement already satisfied: nbconvert in c:\\users\\sngho\\anaconda\\lib\\site-packages (from jupyter->tensorflow-object-detection-api) (6.0.7)\n",
      "Requirement already satisfied: ipywidgets in c:\\users\\sngho\\anaconda\\lib\\site-packages (from jupyter->tensorflow-object-detection-api) (7.6.3)\n",
      "Requirement already satisfied: qtconsole in c:\\users\\sngho\\anaconda\\lib\\site-packages (from jupyter->tensorflow-object-detection-api) (5.0.3)\n",
      "Requirement already satisfied: tornado>=4.2 in c:\\users\\sngho\\anaconda\\lib\\site-packages (from ipykernel->jupyter->tensorflow-object-detection-api) (6.1)\n",
      "Requirement already satisfied: ipython>=5.0.0 in c:\\users\\sngho\\anaconda\\lib\\site-packages (from ipykernel->jupyter->tensorflow-object-detection-api) (7.22.0)\n",
      "Requirement already satisfied: traitlets>=4.1.0 in c:\\users\\sngho\\anaconda\\lib\\site-packages (from ipykernel->jupyter->tensorflow-object-detection-api) (5.0.5)\n",
      "Requirement already satisfied: jupyter-client in c:\\users\\sngho\\anaconda\\lib\\site-packages (from ipykernel->jupyter->tensorflow-object-detection-api) (6.1.12)\n",
      "Requirement already satisfied: jedi>=0.16 in c:\\users\\sngho\\anaconda\\lib\\site-packages (from ipython>=5.0.0->ipykernel->jupyter->tensorflow-object-detection-api) (0.17.2)\n",
      "Requirement already satisfied: colorama in c:\\users\\sngho\\anaconda\\lib\\site-packages (from ipython>=5.0.0->ipykernel->jupyter->tensorflow-object-detection-api) (0.4.4)\n",
      "Requirement already satisfied: pickleshare in c:\\users\\sngho\\anaconda\\lib\\site-packages (from ipython>=5.0.0->ipykernel->jupyter->tensorflow-object-detection-api) (0.7.5)\n",
      "Requirement already satisfied: decorator in c:\\users\\sngho\\anaconda\\lib\\site-packages (from ipython>=5.0.0->ipykernel->jupyter->tensorflow-object-detection-api) (5.0.6)\n",
      "Requirement already satisfied: pygments in c:\\users\\sngho\\anaconda\\lib\\site-packages (from ipython>=5.0.0->ipykernel->jupyter->tensorflow-object-detection-api) (2.8.1)\n",
      "Requirement already satisfied: setuptools>=18.5 in c:\\users\\sngho\\anaconda\\lib\\site-packages (from ipython>=5.0.0->ipykernel->jupyter->tensorflow-object-detection-api) (52.0.0.post20210125)\n",
      "Requirement already satisfied: backcall in c:\\users\\sngho\\anaconda\\lib\\site-packages (from ipython>=5.0.0->ipykernel->jupyter->tensorflow-object-detection-api) (0.2.0)\n",
      "Requirement already satisfied: prompt-toolkit!=3.0.0,!=3.0.1,<3.1.0,>=2.0.0 in c:\\users\\sngho\\anaconda\\lib\\site-packages (from ipython>=5.0.0->ipykernel->jupyter->tensorflow-object-detection-api) (3.0.17)\n",
      "Requirement already satisfied: parso<0.8.0,>=0.7.0 in c:\\users\\sngho\\anaconda\\lib\\site-packages (from jedi>=0.16->ipython>=5.0.0->ipykernel->jupyter->tensorflow-object-detection-api) (0.7.0)\n",
      "Requirement already satisfied: wcwidth in c:\\users\\sngho\\anaconda\\lib\\site-packages (from prompt-toolkit!=3.0.0,!=3.0.1,<3.1.0,>=2.0.0->ipython>=5.0.0->ipykernel->jupyter->tensorflow-object-detection-api) (0.2.5)\n",
      "Requirement already satisfied: ipython-genutils in c:\\users\\sngho\\anaconda\\lib\\site-packages (from traitlets>=4.1.0->ipykernel->jupyter->tensorflow-object-detection-api) (0.2.0)\n",
      "Requirement already satisfied: widgetsnbextension~=3.5.0 in c:\\users\\sngho\\anaconda\\lib\\site-packages (from ipywidgets->jupyter->tensorflow-object-detection-api) (3.5.1)\n",
      "Requirement already satisfied: nbformat>=4.2.0 in c:\\users\\sngho\\anaconda\\lib\\site-packages (from ipywidgets->jupyter->tensorflow-object-detection-api) (5.1.3)\n",
      "Requirement already satisfied: jupyterlab-widgets>=1.0.0 in c:\\users\\sngho\\anaconda\\lib\\site-packages (from ipywidgets->jupyter->tensorflow-object-detection-api) (1.0.0)\n",
      "Requirement already satisfied: jupyter-core in c:\\users\\sngho\\anaconda\\lib\\site-packages (from nbformat>=4.2.0->ipywidgets->jupyter->tensorflow-object-detection-api) (4.7.1)\n",
      "Requirement already satisfied: jsonschema!=2.5.0,>=2.4 in c:\\users\\sngho\\anaconda\\lib\\site-packages (from nbformat>=4.2.0->ipywidgets->jupyter->tensorflow-object-detection-api) (3.2.0)\n",
      "Requirement already satisfied: pyrsistent>=0.14.0 in c:\\users\\sngho\\anaconda\\lib\\site-packages (from jsonschema!=2.5.0,>=2.4->nbformat>=4.2.0->ipywidgets->jupyter->tensorflow-object-detection-api) (0.17.3)\n",
      "Requirement already satisfied: attrs>=17.4.0 in c:\\users\\sngho\\anaconda\\lib\\site-packages (from jsonschema!=2.5.0,>=2.4->nbformat>=4.2.0->ipywidgets->jupyter->tensorflow-object-detection-api) (20.3.0)\n",
      "Requirement already satisfied: six>=1.11.0 in c:\\users\\sngho\\anaconda\\lib\\site-packages (from jsonschema!=2.5.0,>=2.4->nbformat>=4.2.0->ipywidgets->jupyter->tensorflow-object-detection-api) (1.15.0)\n",
      "Requirement already satisfied: jinja2 in c:\\users\\sngho\\anaconda\\lib\\site-packages (from notebook->jupyter->tensorflow-object-detection-api) (2.11.3)\n",
      "Requirement already satisfied: pyzmq>=17 in c:\\users\\sngho\\anaconda\\lib\\site-packages (from notebook->jupyter->tensorflow-object-detection-api) (20.0.0)\n",
      "Requirement already satisfied: prometheus-client in c:\\users\\sngho\\anaconda\\lib\\site-packages (from notebook->jupyter->tensorflow-object-detection-api) (0.10.1)\n",
      "Requirement already satisfied: argon2-cffi in c:\\users\\sngho\\anaconda\\lib\\site-packages (from notebook->jupyter->tensorflow-object-detection-api) (20.1.0)\n",
      "Requirement already satisfied: Send2Trash>=1.5.0 in c:\\users\\sngho\\anaconda\\lib\\site-packages (from notebook->jupyter->tensorflow-object-detection-api) (1.5.0)\n",
      "Requirement already satisfied: terminado>=0.8.3 in c:\\users\\sngho\\anaconda\\lib\\site-packages (from notebook->jupyter->tensorflow-object-detection-api) (0.9.4)\n",
      "Requirement already satisfied: python-dateutil>=2.1 in c:\\users\\sngho\\anaconda\\lib\\site-packages (from jupyter-client->ipykernel->jupyter->tensorflow-object-detection-api) (2.8.1)\n",
      "Requirement already satisfied: pywin32>=1.0 in c:\\users\\sngho\\anaconda\\lib\\site-packages (from jupyter-core->nbformat>=4.2.0->ipywidgets->jupyter->tensorflow-object-detection-api) (227)\n",
      "Requirement already satisfied: pywinpty>=0.5 in c:\\users\\sngho\\anaconda\\lib\\site-packages (from terminado>=0.8.3->notebook->jupyter->tensorflow-object-detection-api) (0.5.7)\n",
      "Requirement already satisfied: cffi>=1.0.0 in c:\\users\\sngho\\anaconda\\lib\\site-packages (from argon2-cffi->notebook->jupyter->tensorflow-object-detection-api) (1.14.5)\n",
      "Requirement already satisfied: pycparser in c:\\users\\sngho\\anaconda\\lib\\site-packages (from cffi>=1.0.0->argon2-cffi->notebook->jupyter->tensorflow-object-detection-api) (2.20)\n",
      "Requirement already satisfied: MarkupSafe>=0.23 in c:\\users\\sngho\\anaconda\\lib\\site-packages (from jinja2->notebook->jupyter->tensorflow-object-detection-api) (1.1.1)\n",
      "Requirement already satisfied: cycler>=0.10 in c:\\users\\sngho\\anaconda\\lib\\site-packages (from Matplotlib>=2.1->tensorflow-object-detection-api) (0.10.0)\n",
      "Requirement already satisfied: numpy>=1.15 in c:\\users\\sngho\\anaconda\\lib\\site-packages (from Matplotlib>=2.1->tensorflow-object-detection-api) (1.20.1)\n",
      "Requirement already satisfied: kiwisolver>=1.0.1 in c:\\users\\sngho\\anaconda\\lib\\site-packages (from Matplotlib>=2.1->tensorflow-object-detection-api) (1.3.1)\n",
      "Requirement already satisfied: pyparsing!=2.0.4,!=2.1.2,!=2.1.6,>=2.0.3 in c:\\users\\sngho\\anaconda\\lib\\site-packages (from Matplotlib>=2.1->tensorflow-object-detection-api) (2.4.7)\n",
      "Requirement already satisfied: entrypoints>=0.2.2 in c:\\users\\sngho\\anaconda\\lib\\site-packages (from nbconvert->jupyter->tensorflow-object-detection-api) (0.3)\n",
      "Requirement already satisfied: bleach in c:\\users\\sngho\\anaconda\\lib\\site-packages (from nbconvert->jupyter->tensorflow-object-detection-api) (3.3.0)\n",
      "Requirement already satisfied: mistune<2,>=0.8.1 in c:\\users\\sngho\\anaconda\\lib\\site-packages (from nbconvert->jupyter->tensorflow-object-detection-api) (0.8.4)\n",
      "Requirement already satisfied: defusedxml in c:\\users\\sngho\\anaconda\\lib\\site-packages (from nbconvert->jupyter->tensorflow-object-detection-api) (0.7.1)\n",
      "Requirement already satisfied: testpath in c:\\users\\sngho\\anaconda\\lib\\site-packages (from nbconvert->jupyter->tensorflow-object-detection-api) (0.4.4)\n",
      "Requirement already satisfied: jupyterlab-pygments in c:\\users\\sngho\\anaconda\\lib\\site-packages (from nbconvert->jupyter->tensorflow-object-detection-api) (0.1.2)Note: you may need to restart the kernel to use updated packages.\n",
      "\n"
     ]
    },
    {
     "name": "stdout",
     "output_type": "stream",
     "text": [
      "Requirement already satisfied: nbclient<0.6.0,>=0.5.0 in c:\\users\\sngho\\anaconda\\lib\\site-packages (from nbconvert->jupyter->tensorflow-object-detection-api) (0.5.3)\n",
      "Requirement already satisfied: pandocfilters>=1.4.1 in c:\\users\\sngho\\anaconda\\lib\\site-packages (from nbconvert->jupyter->tensorflow-object-detection-api) (1.4.3)\n",
      "Requirement already satisfied: async-generator in c:\\users\\sngho\\anaconda\\lib\\site-packages (from nbclient<0.6.0,>=0.5.0->nbconvert->jupyter->tensorflow-object-detection-api) (1.10)\n",
      "Requirement already satisfied: nest-asyncio in c:\\users\\sngho\\anaconda\\lib\\site-packages (from nbclient<0.6.0,>=0.5.0->nbconvert->jupyter->tensorflow-object-detection-api) (1.5.1)\n",
      "Requirement already satisfied: webencodings in c:\\users\\sngho\\anaconda\\lib\\site-packages (from bleach->nbconvert->jupyter->tensorflow-object-detection-api) (0.5.1)\n",
      "Requirement already satisfied: packaging in c:\\users\\sngho\\anaconda\\lib\\site-packages (from bleach->nbconvert->jupyter->tensorflow-object-detection-api) (20.9)\n",
      "Requirement already satisfied: qtpy in c:\\users\\sngho\\anaconda\\lib\\site-packages (from qtconsole->jupyter->tensorflow-object-detection-api) (1.9.0)\n",
      "Requirement already satisfied: keras-preprocessing>=1.1.1 in c:\\users\\sngho\\anaconda\\lib\\site-packages (from tensorflow->tensorflow-object-detection-api) (1.1.2)\n",
      "Requirement already satisfied: absl-py>=0.4.0 in c:\\users\\sngho\\anaconda\\lib\\site-packages (from tensorflow->tensorflow-object-detection-api) (0.15.0)\n",
      "Requirement already satisfied: libclang>=9.0.1 in c:\\users\\sngho\\anaconda\\lib\\site-packages (from tensorflow->tensorflow-object-detection-api) (12.0.0)\n",
      "Requirement already satisfied: google-pasta>=0.1.1 in c:\\users\\sngho\\anaconda\\lib\\site-packages (from tensorflow->tensorflow-object-detection-api) (0.2.0)\n",
      "Requirement already satisfied: termcolor>=1.1.0 in c:\\users\\sngho\\anaconda\\lib\\site-packages (from tensorflow->tensorflow-object-detection-api) (1.1.0)\n",
      "Requirement already satisfied: tensorflow-estimator<2.8,~=2.7.0rc0 in c:\\users\\sngho\\anaconda\\lib\\site-packages (from tensorflow->tensorflow-object-detection-api) (2.7.0)\n",
      "Requirement already satisfied: gast<0.5.0,>=0.2.1 in c:\\users\\sngho\\anaconda\\lib\\site-packages (from tensorflow->tensorflow-object-detection-api) (0.4.0)\n",
      "Requirement already satisfied: flatbuffers<3.0,>=1.12 in c:\\users\\sngho\\anaconda\\lib\\site-packages (from tensorflow->tensorflow-object-detection-api) (2.0)\n",
      "Requirement already satisfied: wrapt>=1.11.0 in c:\\users\\sngho\\anaconda\\lib\\site-packages (from tensorflow->tensorflow-object-detection-api) (1.12.1)\n",
      "Requirement already satisfied: opt-einsum>=2.3.2 in c:\\users\\sngho\\anaconda\\lib\\site-packages (from tensorflow->tensorflow-object-detection-api) (3.3.0)\n",
      "Requirement already satisfied: h5py>=2.9.0 in c:\\users\\sngho\\anaconda\\lib\\site-packages (from tensorflow->tensorflow-object-detection-api) (2.10.0)\n",
      "Requirement already satisfied: astunparse>=1.6.0 in c:\\users\\sngho\\anaconda\\lib\\site-packages (from tensorflow->tensorflow-object-detection-api) (1.6.3)\n",
      "Requirement already satisfied: tensorboard~=2.6 in c:\\users\\sngho\\anaconda\\lib\\site-packages (from tensorflow->tensorflow-object-detection-api) (2.7.0)\n",
      "Requirement already satisfied: typing-extensions>=3.6.6 in c:\\users\\sngho\\anaconda\\lib\\site-packages (from tensorflow->tensorflow-object-detection-api) (3.7.4.3)\n",
      "Requirement already satisfied: tensorflow-io-gcs-filesystem>=0.21.0 in c:\\users\\sngho\\anaconda\\lib\\site-packages (from tensorflow->tensorflow-object-detection-api) (0.21.0)\n",
      "Requirement already satisfied: grpcio<2.0,>=1.24.3 in c:\\users\\sngho\\anaconda\\lib\\site-packages (from tensorflow->tensorflow-object-detection-api) (1.41.1)\n",
      "Requirement already satisfied: keras<2.8,>=2.7.0rc0 in c:\\users\\sngho\\anaconda\\lib\\site-packages (from tensorflow->tensorflow-object-detection-api) (2.7.0)\n",
      "Requirement already satisfied: requests<3,>=2.21.0 in c:\\users\\sngho\\anaconda\\lib\\site-packages (from tensorboard~=2.6->tensorflow->tensorflow-object-detection-api) (2.25.1)\n",
      "Requirement already satisfied: tensorboard-data-server<0.7.0,>=0.6.0 in c:\\users\\sngho\\anaconda\\lib\\site-packages (from tensorboard~=2.6->tensorflow->tensorflow-object-detection-api) (0.6.1)\n",
      "Requirement already satisfied: markdown>=2.6.8 in c:\\users\\sngho\\anaconda\\lib\\site-packages (from tensorboard~=2.6->tensorflow->tensorflow-object-detection-api) (3.3.4)\n",
      "Requirement already satisfied: google-auth<3,>=1.6.3 in c:\\users\\sngho\\anaconda\\lib\\site-packages (from tensorboard~=2.6->tensorflow->tensorflow-object-detection-api) (2.3.3)\n",
      "Requirement already satisfied: tensorboard-plugin-wit>=1.6.0 in c:\\users\\sngho\\anaconda\\lib\\site-packages (from tensorboard~=2.6->tensorflow->tensorflow-object-detection-api) (1.8.0)\n",
      "Requirement already satisfied: google-auth-oauthlib<0.5,>=0.4.1 in c:\\users\\sngho\\anaconda\\lib\\site-packages (from tensorboard~=2.6->tensorflow->tensorflow-object-detection-api) (0.4.6)\n",
      "Requirement already satisfied: werkzeug>=0.11.15 in c:\\users\\sngho\\anaconda\\lib\\site-packages (from tensorboard~=2.6->tensorflow->tensorflow-object-detection-api) (1.0.1)\n",
      "Requirement already satisfied: pyasn1-modules>=0.2.1 in c:\\users\\sngho\\anaconda\\lib\\site-packages (from google-auth<3,>=1.6.3->tensorboard~=2.6->tensorflow->tensorflow-object-detection-api) (0.2.8)\n",
      "Requirement already satisfied: rsa<5,>=3.1.4 in c:\\users\\sngho\\anaconda\\lib\\site-packages (from google-auth<3,>=1.6.3->tensorboard~=2.6->tensorflow->tensorflow-object-detection-api) (4.7.2)\n",
      "Requirement already satisfied: cachetools<5.0,>=2.0.0 in c:\\users\\sngho\\anaconda\\lib\\site-packages (from google-auth<3,>=1.6.3->tensorboard~=2.6->tensorflow->tensorflow-object-detection-api) (4.2.4)\n",
      "Requirement already satisfied: requests-oauthlib>=0.7.0 in c:\\users\\sngho\\anaconda\\lib\\site-packages (from google-auth-oauthlib<0.5,>=0.4.1->tensorboard~=2.6->tensorflow->tensorflow-object-detection-api) (1.3.0)\n",
      "Requirement already satisfied: pyasn1<0.5.0,>=0.4.6 in c:\\users\\sngho\\anaconda\\lib\\site-packages (from pyasn1-modules>=0.2.1->google-auth<3,>=1.6.3->tensorboard~=2.6->tensorflow->tensorflow-object-detection-api) (0.4.8)\n",
      "Requirement already satisfied: urllib3<1.27,>=1.21.1 in c:\\users\\sngho\\anaconda\\lib\\site-packages (from requests<3,>=2.21.0->tensorboard~=2.6->tensorflow->tensorflow-object-detection-api) (1.26.4)\n",
      "Requirement already satisfied: certifi>=2017.4.17 in c:\\users\\sngho\\anaconda\\lib\\site-packages (from requests<3,>=2.21.0->tensorboard~=2.6->tensorflow->tensorflow-object-detection-api) (2020.12.5)\n",
      "Requirement already satisfied: idna<3,>=2.5 in c:\\users\\sngho\\anaconda\\lib\\site-packages (from requests<3,>=2.21.0->tensorboard~=2.6->tensorflow->tensorflow-object-detection-api) (2.10)\n",
      "Requirement already satisfied: chardet<5,>=3.0.2 in c:\\users\\sngho\\anaconda\\lib\\site-packages (from requests<3,>=2.21.0->tensorboard~=2.6->tensorflow->tensorflow-object-detection-api) (4.0.0)\n",
      "Requirement already satisfied: oauthlib>=3.0.0 in c:\\users\\sngho\\anaconda\\lib\\site-packages (from requests-oauthlib>=0.7.0->google-auth-oauthlib<0.5,>=0.4.1->tensorboard~=2.6->tensorflow->tensorflow-object-detection-api) (3.1.1)\n",
      "Collecting rfc3986>=1.4.0\n",
      "  Downloading rfc3986-1.5.0-py2.py3-none-any.whl (31 kB)\n",
      "Requirement already satisfied: importlib-metadata>=3.6 in c:\\users\\sngho\\anaconda\\lib\\site-packages (from twine->tensorflow-object-detection-api) (3.10.0)\n",
      "Requirement already satisfied: pkginfo>=1.4.2 in c:\\users\\sngho\\anaconda\\lib\\site-packages (from twine->tensorflow-object-detection-api) (1.7.0)\n",
      "Collecting requests-toolbelt!=0.9.0,>=0.8.0\n",
      "  Downloading requests_toolbelt-0.9.1-py2.py3-none-any.whl (54 kB)\n",
      "Requirement already satisfied: keyring>=15.1 in c:\\users\\sngho\\anaconda\\lib\\site-packages (from twine->tensorflow-object-detection-api) (22.3.0)\n",
      "Collecting readme-renderer>=21.0\n",
      "  Downloading readme_renderer-30.0-py2.py3-none-any.whl (15 kB)\n",
      "Requirement already satisfied: tqdm>=4.14 in c:\\users\\sngho\\anaconda\\lib\\site-packages (from twine->tensorflow-object-detection-api) (4.59.0)\n",
      "Requirement already satisfied: zipp>=0.5 in c:\\users\\sngho\\anaconda\\lib\\site-packages (from importlib-metadata>=3.6->twine->tensorflow-object-detection-api) (3.4.1)\n",
      "Requirement already satisfied: pywin32-ctypes!=0.1.0,!=0.1.1 in c:\\users\\sngho\\anaconda\\lib\\site-packages (from keyring>=15.1->twine->tensorflow-object-detection-api) (0.2.0)\n",
      "Requirement already satisfied: docutils>=0.13.1 in c:\\users\\sngho\\anaconda\\lib\\site-packages (from readme-renderer>=21.0->twine->tensorflow-object-detection-api) (0.17)\n",
      "Building wheels for collected packages: tensorflow-object-detection-api\n",
      "  Building wheel for tensorflow-object-detection-api (setup.py): started\n",
      "  Building wheel for tensorflow-object-detection-api (setup.py): finished with status 'done'\n",
      "  Created wheel for tensorflow-object-detection-api: filename=tensorflow_object_detection_api-0.1.1-py3-none-any.whl size=844513 sha256=d173562c84428d8d7851c4704f2d2581b632b1d35a1af9f0ded7e0cbc03a0a04\n",
      "  Stored in directory: c:\\users\\sngho\\appdata\\local\\pip\\cache\\wheels\\93\\4e\\cd\\e2d0aecb1680cbc6730933bc53a776f7213acb08ecbb91c301\n",
      "Successfully built tensorflow-object-detection-api\n",
      "Installing collected packages: rfc3986, requests-toolbelt, readme-renderer, twine, tensorflow-object-detection-api\n",
      "Successfully installed readme-renderer-30.0 requests-toolbelt-0.9.1 rfc3986-1.5.0 tensorflow-object-detection-api-0.1.1 twine-3.5.0\n"
     ]
    }
   ],
   "source": [
    "pip install tensorflow-object-detection-api"
   ]
  },
  {
   "cell_type": "code",
   "execution_count": 3,
   "metadata": {},
   "outputs": [],
   "source": [
    "from tensorflow import *"
   ]
  },
  {
   "cell_type": "code",
   "execution_count": 4,
   "metadata": {},
   "outputs": [],
   "source": [
    "WORKSPACE_PATH = 'Tensorflow/workspace'\n",
    "SCRIPTS_PATH = 'Tensorflow/scripts'\n",
    "APIMODEL_PATH = 'Tensorflow/models'\n",
    "ANNOTATION_PATH = WORKSPACE_PATH+'/annotations'\n",
    "IMAGE_PATH = WORKSPACE_PATH+'/images'\n",
    "MODEL_PATH = WORKSPACE_PATH+'/models'\n",
    "PRETRAINED_MODEL_PATH = WORKSPACE_PATH+'/pre-trained-models'\n",
    "CONFIG_PATH = MODEL_PATH+'/my_ssd_mobnet/pipeline.config'\n",
    "CHECKPOINT_PATH = MODEL_PATH+'/my_ssd_mobnet/'"
   ]
  },
  {
   "cell_type": "markdown",
   "metadata": {},
   "source": [
    "# 1. Create Label Map"
   ]
  },
  {
   "cell_type": "code",
   "execution_count": 5,
   "metadata": {},
   "outputs": [],
   "source": [
    "labels = [{'name': 'afternoon', 'id': 1}, {'name': 'allergic', 'id': 2}, {'name': 'angry', 'id': 3}, {'name': 'asl', 'id': 4}, {'name': 'blood', 'id': 5}, {'name': 'call', 'id': 6}, {'name': 'can', 'id': 7}, {'name': 'deaf', 'id': 8}, {'name': 'doctor', 'id': 9}, {'name': 'down', 'id': 10}]\n",
    "\n",
    "with open(ANNOTATION_PATH + '\\label_map.pbtxt', 'w') as f:\n",
    "    for label in labels:\n",
    "        f.write('item { \\n')\n",
    "        f.write('\\tname:\\'{}\\'\\n'.format(label['name']))\n",
    "        f.write('\\tid:{}\\n'.format(label['id']))\n",
    "        f.write('}\\n')"
   ]
  },
  {
   "cell_type": "markdown",
   "metadata": {},
   "source": [
    "# 2. Create TF records"
   ]
  },
  {
   "cell_type": "code",
   "execution_count": 14,
   "metadata": {},
   "outputs": [
    {
     "name": "stderr",
     "output_type": "stream",
     "text": [
      "2021-11-06 23:27:54.286657: W tensorflow/stream_executor/platform/default/dso_loader.cc:64] Could not load dynamic library 'cudart64_110.dll'; dlerror: cudart64_110.dll not found\n",
      "2021-11-06 23:27:54.286697: I tensorflow/stream_executor/cuda/cudart_stub.cc:29] Ignore above cudart dlerror if you do not have a GPU set up on your machine.\n",
      "Traceback (most recent call last):\n",
      "  File \"Tensorflow/scripts/generate_tfrecord.py\", line 62, in <module>\n",
      "    label_map = label_map_util.load_labelmap(args.labels_path)\n",
      "  File \"C:\\Users\\sngho\\anaconda\\lib\\site-packages\\object_detection\\utils\\label_map_util.py\", line 132, in load_labelmap\n",
      "    with tf.gfile.GFile(path, 'r') as fid:\n",
      "AttributeError: module 'tensorflow' has no attribute 'gfile'\n",
      "2021-11-06 23:27:59.452728: W tensorflow/stream_executor/platform/default/dso_loader.cc:64] Could not load dynamic library 'cudart64_110.dll'; dlerror: cudart64_110.dll not found\n",
      "2021-11-06 23:27:59.452772: I tensorflow/stream_executor/cuda/cudart_stub.cc:29] Ignore above cudart dlerror if you do not have a GPU set up on your machine.\n",
      "Traceback (most recent call last):\n",
      "  File \"Tensorflow/scripts/generate_tfrecord.py\", line 62, in <module>\n",
      "    label_map = label_map_util.load_labelmap(args.labels_path)\n",
      "  File \"C:\\Users\\sngho\\anaconda\\lib\\site-packages\\object_detection\\utils\\label_map_util.py\", line 132, in load_labelmap\n",
      "    with tf.gfile.GFile(path, 'r') as fid:\n",
      "AttributeError: module 'tensorflow' has no attribute 'gfile'\n"
     ]
    }
   ],
   "source": [
    "!python {SCRIPTS_PATH + '/generate_tfrecord.py'} -x {IMAGE_PATH + '/train'} -l {ANNOTATION_PATH + '/label_map.pbtxt'} -o {ANNOTATION_PATH + '/train.record'}\n",
    "!python {SCRIPTS_PATH + '/generate_tfrecord.py'} -x{IMAGE_PATH + '/test'} -l {ANNOTATION_PATH + '/label_map.pbtxt'} -o {ANNOTATION_PATH + '/test.record'}"
   ]
  },
  {
   "cell_type": "markdown",
   "metadata": {},
   "source": [
    "# 3. Download TF Models Pretrained Models from Tensorflow Model Zoo"
   ]
  },
  {
   "cell_type": "code",
   "execution_count": 7,
   "metadata": {},
   "outputs": [
    {
     "name": "stderr",
     "output_type": "stream",
     "text": [
      "fatal: destination path 'models' already exists and is not an empty directory.\n"
     ]
    }
   ],
   "source": [
    "!cd Tensorflow && git clone https://github.com/tensorflow/models"
   ]
  },
  {
   "cell_type": "code",
   "execution_count": 8,
   "metadata": {},
   "outputs": [],
   "source": [
    "#wget.download('http://download.tensorflow.org/models/object_detection/tf2/20200711/ssd_mobilenet_v2_fpnlite_320x320_coco17_tpu-8.tar.gz')\n",
    "#!mv ssd_mobilenet_v2_fpnlite_320x320_coco17_tpu-8.tar.gz {PRETRAINED_MODEL_PATH}\n",
    "#!cd {PRETRAINED_MODEL_PATH} && tar -zxvf ssd_mobilenet_v2_fpnlite_320x320_coco17_tpu-8.tar.gz"
   ]
  },
  {
   "cell_type": "markdown",
   "metadata": {},
   "source": [
    "# 4. Copy Model Config to Training Folder"
   ]
  },
  {
   "cell_type": "code",
   "execution_count": 9,
   "metadata": {},
   "outputs": [],
   "source": [
    "CUSTOM_MODEL_NAME = 'my_ssd_mobnet' "
   ]
  },
  {
   "cell_type": "code",
   "execution_count": 10,
   "metadata": {},
   "outputs": [
    {
     "name": "stderr",
     "output_type": "stream",
     "text": [
      "A subdirectory or file Tensorflow\\workspace\\models\\my_ssd_mobnet already exists.\n",
      "'cp' is not recognized as an internal or external command,\n",
      "operable program or batch file.\n"
     ]
    }
   ],
   "source": [
    "!mkdir {'Tensorflow\\workspace\\models\\\\'+CUSTOM_MODEL_NAME}\n",
    "!cp {PRETRAINED_MODEL_PATH+'/ssd_mobilenet_v2_fpnlite_320x320_coco17_tpu-8/pipeline.config'} {MODEL_PATH+'/'+CUSTOM_MODEL_NAME}"
   ]
  },
  {
   "cell_type": "markdown",
   "metadata": {},
   "source": [
    "# 5. Update Config For Transfer Learning"
   ]
  },
  {
   "cell_type": "code",
   "execution_count": 11,
   "metadata": {},
   "outputs": [],
   "source": [
    "import tensorflow as tf\n",
    "from object_detection.utils import config_util\n",
    "from object_detection.protos import pipeline_pb2\n",
    "from google.protobuf import text_format"
   ]
  },
  {
   "cell_type": "code",
   "execution_count": 12,
   "metadata": {},
   "outputs": [],
   "source": [
    "CONFIG_PATH = MODEL_PATH+'/'+CUSTOM_MODEL_NAME+'/pipeline.config'"
   ]
  },
  {
   "cell_type": "code",
   "execution_count": 13,
   "metadata": {},
   "outputs": [
    {
     "ename": "AttributeError",
     "evalue": "module 'tensorflow' has no attribute 'gfile'",
     "output_type": "error",
     "traceback": [
      "\u001b[1;31m---------------------------------------------------------------------------\u001b[0m",
      "\u001b[1;31mAttributeError\u001b[0m                            Traceback (most recent call last)",
      "\u001b[1;32m<ipython-input-13-efc7822bb0d7>\u001b[0m in \u001b[0;36m<module>\u001b[1;34m\u001b[0m\n\u001b[1;32m----> 1\u001b[1;33m \u001b[0mconfig\u001b[0m \u001b[1;33m=\u001b[0m \u001b[0mconfig_util\u001b[0m\u001b[1;33m.\u001b[0m\u001b[0mget_configs_from_pipeline_file\u001b[0m\u001b[1;33m(\u001b[0m\u001b[0mCONFIG_PATH\u001b[0m\u001b[1;33m)\u001b[0m\u001b[1;33m\u001b[0m\u001b[1;33m\u001b[0m\u001b[0m\n\u001b[0m",
      "\u001b[1;32m~\\anaconda\\lib\\site-packages\\object_detection\\utils\\config_util.py\u001b[0m in \u001b[0;36mget_configs_from_pipeline_file\u001b[1;34m(pipeline_config_path, config_override)\u001b[0m\n\u001b[0;32m     94\u001b[0m   \"\"\"\n\u001b[0;32m     95\u001b[0m   \u001b[0mpipeline_config\u001b[0m \u001b[1;33m=\u001b[0m \u001b[0mpipeline_pb2\u001b[0m\u001b[1;33m.\u001b[0m\u001b[0mTrainEvalPipelineConfig\u001b[0m\u001b[1;33m(\u001b[0m\u001b[1;33m)\u001b[0m\u001b[1;33m\u001b[0m\u001b[1;33m\u001b[0m\u001b[0m\n\u001b[1;32m---> 96\u001b[1;33m   \u001b[1;32mwith\u001b[0m \u001b[0mtf\u001b[0m\u001b[1;33m.\u001b[0m\u001b[0mgfile\u001b[0m\u001b[1;33m.\u001b[0m\u001b[0mGFile\u001b[0m\u001b[1;33m(\u001b[0m\u001b[0mpipeline_config_path\u001b[0m\u001b[1;33m,\u001b[0m \u001b[1;34m\"r\"\u001b[0m\u001b[1;33m)\u001b[0m \u001b[1;32mas\u001b[0m \u001b[0mf\u001b[0m\u001b[1;33m:\u001b[0m\u001b[1;33m\u001b[0m\u001b[1;33m\u001b[0m\u001b[0m\n\u001b[0m\u001b[0;32m     97\u001b[0m     \u001b[0mproto_str\u001b[0m \u001b[1;33m=\u001b[0m \u001b[0mf\u001b[0m\u001b[1;33m.\u001b[0m\u001b[0mread\u001b[0m\u001b[1;33m(\u001b[0m\u001b[1;33m)\u001b[0m\u001b[1;33m\u001b[0m\u001b[1;33m\u001b[0m\u001b[0m\n\u001b[0;32m     98\u001b[0m     \u001b[0mtext_format\u001b[0m\u001b[1;33m.\u001b[0m\u001b[0mMerge\u001b[0m\u001b[1;33m(\u001b[0m\u001b[0mproto_str\u001b[0m\u001b[1;33m,\u001b[0m \u001b[0mpipeline_config\u001b[0m\u001b[1;33m)\u001b[0m\u001b[1;33m\u001b[0m\u001b[1;33m\u001b[0m\u001b[0m\n",
      "\u001b[1;31mAttributeError\u001b[0m: module 'tensorflow' has no attribute 'gfile'"
     ]
    }
   ],
   "source": [
    "config = config_util.get_configs_from_pipeline_file(CONFIG_PATH)"
   ]
  },
  {
   "cell_type": "code",
   "execution_count": null,
   "metadata": {},
   "outputs": [],
   "source": [
    "config"
   ]
  },
  {
   "cell_type": "code",
   "execution_count": null,
   "metadata": {},
   "outputs": [],
   "source": [
    "pipeline_config = pipeline_pb2.TrainEvalPipelineConfig()\n",
    "with tf.io.gfile.GFile(CONFIG_PATH, \"r\") as f:                                                                                                                                                                                                                     \n",
    "    proto_str = f.read()                                                                                                                                                                                                                                          \n",
    "    text_format.Merge(proto_str, pipeline_config)  "
   ]
  },
  {
   "cell_type": "code",
   "execution_count": null,
   "metadata": {},
   "outputs": [],
   "source": [
    "pipeline_config.model.ssd.num_classes = 2\n",
    "pipeline_config.train_config.batch_size = 4\n",
    "pipeline_config.train_config.fine_tune_checkpoint = PRETRAINED_MODEL_PATH+'/ssd_mobilenet_v2_fpnlite_320x320_coco17_tpu-8/checkpoint/ckpt-0'\n",
    "pipeline_config.train_config.fine_tune_checkpoint_type = \"detection\"\n",
    "pipeline_config.train_input_reader.label_map_path= ANNOTATION_PATH + '/label_map.pbtxt'\n",
    "pipeline_config.train_input_reader.tf_record_input_reader.input_path[:] = [ANNOTATION_PATH + '/train.record']\n",
    "pipeline_config.eval_input_reader[0].label_map_path = ANNOTATION_PATH + '/label_map.pbtxt'\n",
    "pipeline_config.eval_input_reader[0].tf_record_input_reader.input_path[:] = [ANNOTATION_PATH + '/test.record']"
   ]
  },
  {
   "cell_type": "code",
   "execution_count": null,
   "metadata": {},
   "outputs": [],
   "source": [
    "config_text = text_format.MessageToString(pipeline_config)                                                                                                                                                                                                        \n",
    "with tf.io.gfile.GFile(CONFIG_PATH, \"wb\") as f:                                                                                                                                                                                                                     \n",
    "    f.write(config_text)   "
   ]
  },
  {
   "cell_type": "markdown",
   "metadata": {},
   "source": [
    "# 6. Train the model"
   ]
  },
  {
   "cell_type": "code",
   "execution_count": null,
   "metadata": {},
   "outputs": [],
   "source": [
    "print(\"\"\"python {}/research/object_detection/model_main_tf2.py --model_dir={}/{} --pipeline_config_path={}/{}/pipeline.config --num_train_steps=5000\"\"\".format(APIMODEL_PATH, MODEL_PATH,CUSTOM_MODEL_NAME,MODEL_PATH,CUSTOM_MODEL_NAME))"
   ]
  },
  {
   "cell_type": "markdown",
   "metadata": {},
   "source": [
    "# 7. Load Train Model From Checkpoint"
   ]
  },
  {
   "cell_type": "code",
   "execution_count": null,
   "metadata": {},
   "outputs": [],
   "source": [
    "import os\n",
    "from object_detection.utils import label_map_util\n",
    "from object_detection.utils import visualization_utils as viz_utils\n",
    "from object_detection.builders import model_builder"
   ]
  },
  {
   "cell_type": "code",
   "execution_count": null,
   "metadata": {},
   "outputs": [],
   "source": [
    "# Load pipeline config and build a detection model\n",
    "configs = config_util.get_configs_from_pipeline_file(CONFIG_PATH)\n",
    "detection_model = model_builder.build(model_config=configs['model'], is_training=False)\n",
    "\n",
    "# Restore checkpoint\n",
    "ckpt = tf.compat.v2.train.Checkpoint(model=detection_model)\n",
    "ckpt.restore(os.path.join(CHECKPOINT_PATH, 'ckpt-6')).expect_partial()\n",
    "\n",
    "@tf.function\n",
    "def detect_fn(image):\n",
    "    image, shapes = detection_model.preprocess(image)\n",
    "    prediction_dict = detection_model.predict(image, shapes)\n",
    "    detections = detection_model.postprocess(prediction_dict, shapes)\n",
    "    return detections"
   ]
  },
  {
   "cell_type": "markdown",
   "metadata": {},
   "source": [
    "# 8. Detect in Real-Time"
   ]
  },
  {
   "cell_type": "code",
   "execution_count": null,
   "metadata": {},
   "outputs": [],
   "source": [
    "import cv2 \n",
    "import numpy as np"
   ]
  },
  {
   "cell_type": "code",
   "execution_count": null,
   "metadata": {},
   "outputs": [],
   "source": [
    "category_index = label_map_util.create_category_index_from_labelmap(ANNOTATION_PATH+'/label_map.pbtxt')"
   ]
  },
  {
   "cell_type": "code",
   "execution_count": null,
   "metadata": {},
   "outputs": [],
   "source": [
    "cap.release()"
   ]
  },
  {
   "cell_type": "code",
   "execution_count": null,
   "metadata": {},
   "outputs": [],
   "source": [
    "# Setup capture\n",
    "cap = cv2.VideoCapture(0)\n",
    "width = int(cap.get(cv2.CAP_PROP_FRAME_WIDTH))\n",
    "height = int(cap.get(cv2.CAP_PROP_FRAME_HEIGHT))"
   ]
  },
  {
   "cell_type": "code",
   "execution_count": null,
   "metadata": {},
   "outputs": [],
   "source": [
    "while True: \n",
    "    ret, frame = cap.read()\n",
    "    image_np = np.array(frame)\n",
    "    \n",
    "    input_tensor = tf.convert_to_tensor(np.expand_dims(image_np, 0), dtype=tf.float32)\n",
    "    detections = detect_fn(input_tensor)\n",
    "    \n",
    "    num_detections = int(detections.pop('num_detections'))\n",
    "    detections = {key: value[0, :num_detections].numpy()\n",
    "                  for key, value in detections.items()}\n",
    "    detections['num_detections'] = num_detections\n",
    "\n",
    "    # detection_classes should be ints.\n",
    "    detections['detection_classes'] = detections['detection_classes'].astype(np.int64)\n",
    "\n",
    "    label_id_offset = 1\n",
    "    image_np_with_detections = image_np.copy()\n",
    "\n",
    "    viz_utils.visualize_boxes_and_labels_on_image_array(\n",
    "                image_np_with_detections,\n",
    "                detections['detection_boxes'],\n",
    "                detections['detection_classes']+label_id_offset,\n",
    "                detections['detection_scores'],\n",
    "                category_index,\n",
    "                use_normalized_coordinates=True,\n",
    "                max_boxes_to_draw=5,\n",
    "                min_score_thresh=.5,\n",
    "                agnostic_mode=False)\n",
    "\n",
    "    cv2.imshow('object detection',  cv2.resize(image_np_with_detections, (800, 600)))\n",
    "    \n",
    "    if cv2.waitKey(1) & 0xFF == ord('q'):\n",
    "        cap.release()\n",
    "        break"
   ]
  },
  {
   "cell_type": "code",
   "execution_count": null,
   "metadata": {},
   "outputs": [],
   "source": [
    "detections = detect_fn(input_tensor)"
   ]
  },
  {
   "cell_type": "code",
   "execution_count": null,
   "metadata": {},
   "outputs": [],
   "source": [
    "from matplotlib import pyplot as plt"
   ]
  },
  {
   "cell_type": "code",
   "execution_count": null,
   "metadata": {},
   "outputs": [],
   "source": []
  }
 ],
 "metadata": {
  "kernelspec": {
   "display_name": "Python 3",
   "language": "python",
   "name": "python3"
  },
  "language_info": {
   "codemirror_mode": {
    "name": "ipython",
    "version": 3
   },
   "file_extension": ".py",
   "mimetype": "text/x-python",
   "name": "python",
   "nbconvert_exporter": "python",
   "pygments_lexer": "ipython3",
   "version": "3.8.8"
  }
 },
 "nbformat": 4,
 "nbformat_minor": 2
}
